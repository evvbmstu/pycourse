{
 "cells": [
  {
   "cell_type": "code",
   "execution_count": 310,
   "metadata": {},
   "outputs": [],
   "source": [
    "from itertools import combinations\n",
    "import random\n",
    "class Championship:\n",
    "    def __init__(self,teams):\n",
    "        self.teams = teams\n",
    "        self.matches = self.set_matches(teams)\n",
    "        self.stats = self.totals()\n",
    "        \n",
    "    def set_matches(self,teams):\n",
    "        matches = {}\n",
    "        for each in combinations( teams, 2 ):\n",
    "            matches[each] = [random.randint(0, 5), random.randint(0, 5)]\n",
    "        return matches\n",
    "    \n",
    "    def index_swap(self,a):\n",
    "        if a == 0:\n",
    "            return 1\n",
    "        else:\n",
    "            return 0\n",
    "        \n",
    "    def totals(self):   \n",
    "        stats = {}\n",
    "        results = {}\n",
    "        sum_points = 0\n",
    "        for each in self.teams:\n",
    "            results[each] = [match for match in self.matches.items() if each in match[0]]\n",
    "        for key in results:\n",
    "            win = 0\n",
    "            lose = 0\n",
    "            draw = 0\n",
    "            sum_goals = 0\n",
    "            sum_fails = 0\n",
    "            for match in results[key]:\n",
    "                index = match[0].index(key)\n",
    "                goals = match[1][index]\n",
    "                fails = match[1][self.index_swap(index)]\n",
    "                sum_goals += goals\n",
    "                sum_fails += fails\n",
    "                if goals < fails:\n",
    "                    lose += 1\n",
    "                elif  goals > fails:\n",
    "                    win += 1\n",
    "                else:\n",
    "                    draw += 1\n",
    "            stats[key] = [len(ex) - 1, win, draw, lose, (sum_goals,sum_fails), win*3 + draw]\n",
    "            sum_points += win*3 + draw\n",
    "\n",
    "        for each in stats.values():\n",
    "            each.append( round( each[-1]*100/float(sum_points),1))\n",
    "        return stats#sorted( stats.items(), key = lambda x: x[1][-1], reverse=True)\n",
    "    \n",
    "    def find_match(self,*args):\n",
    "        team_matches = {}\n",
    "        if len(args) == 1:\n",
    "            for each in self.matches.keys():\n",
    "                if args[0] in each:\n",
    "                    team_matches[each] = self.matches[each]\n",
    "            return team_matches\n",
    "        elif len(args) == 2:\n",
    "            for each in self.matches.keys():\n",
    "                if args[0] in each and args[1] in each:\n",
    "                    print(args[0] + \" - \" + args[1] + \" {0} : {1}\".format(self.matches[each][0],self.matches[each][1]))\n",
    "        else:\n",
    "            return \" Неверное кол-во аргументов \"\n",
    "    def display(self):\n",
    "        sort_stats = sorted( self.stats.items(), key = lambda x: x[1][-1], reverse=True)\n",
    "        columns = [\"Name\",\"Games\",\"Win\",\"Draw\",\"Lose\",\"Goals\",\"Points\",\"Percent\"]\n",
    "        \n",
    "        headers =\"{:^12}\" * (len(columns))\n",
    "        print(headers.format(*columns))\n",
    "        data = []\n",
    "        for each in sort_stats:\n",
    "            row_data = []\n",
    "            row_data.append(each[0])\n",
    "            result_str = [str(val).replace(\",\",\":\") for val in each[1]]\n",
    "            for each in result_str:\n",
    "                row_data.append(each)\n",
    "            data.append(row_data)\n",
    "        print(\"-\"*len(headers)*2)\n",
    "        for each in data:\n",
    "            row_format = \"{:^12}\" * (len(each))\n",
    "            print(row_format.format(*each).replace(\")\",\"\").replace(\"(\",\"\"))\n",
    "        #for team, row in zip(self.teams,str(sort_stats[0][1]) ):\n",
    "        #    print(row_format.format(, *row))\n",
    "        #return sort_stats"
   ]
  },
  {
   "cell_type": "code",
   "execution_count": 311,
   "metadata": {},
   "outputs": [
    {
     "name": "stdout",
     "output_type": "stream",
     "text": [
      "    Name       Games        Win         Draw        Lose       Goals       Points     Percent   \n",
      "------------------------------------------------------------------------------------------------\n",
      "   Lakers        4           2           1           1        15: 10       7          25.0    \n",
      "   Bulls         4           2           1           1        10: 9        7          25.0    \n",
      "  Rockets        4           2           0           2        10: 9        6          21.4    \n",
      "  Hornets        4           1           2           1        7: 10        5          17.9    \n",
      "   Spurs         4           1           0           3        9: 13        3          10.7    \n"
     ]
    }
   ],
   "source": [
    "teams = [\"Rockets\",\"Lakers\",\"Spurs\",\"Bulls\",\"Hornets\"]\n",
    "cup = Championship(teams)\n",
    "cup.display()"
   ]
  },
  {
   "cell_type": "code",
   "execution_count": 313,
   "metadata": {},
   "outputs": [
    {
     "data": {
      "text/plain": [
       "{('Bulls', 'Hornets'): [0, 0],\n",
       " ('Lakers', 'Bulls'): [5, 1],\n",
       " ('Rockets', 'Bulls'): [2, 4],\n",
       " ('Spurs', 'Bulls'): [2, 5]}"
      ]
     },
     "execution_count": 313,
     "metadata": {},
     "output_type": "execute_result"
    }
   ],
   "source": [
    "cup.find_match('Bulls')"
   ]
  },
  {
   "cell_type": "code",
   "execution_count": 118,
   "metadata": {},
   "outputs": [
    {
     "ename": "ModuleNotFoundError",
     "evalue": "No module named 'tabulate'",
     "output_type": "error",
     "traceback": [
      "\u001b[0;31m---------------------------------------------------------------------------\u001b[0m",
      "\u001b[0;31mModuleNotFoundError\u001b[0m                       Traceback (most recent call last)",
      "\u001b[0;32m<ipython-input-118-ef39d6a12f51>\u001b[0m in \u001b[0;36m<module>\u001b[0;34m()\u001b[0m\n\u001b[0;32m----> 1\u001b[0;31m \u001b[0;32mfrom\u001b[0m \u001b[0mtabulate\u001b[0m \u001b[0;32mimport\u001b[0m \u001b[0mtabulate\u001b[0m\u001b[0;34m\u001b[0m\u001b[0m\n\u001b[0m",
      "\u001b[0;31mModuleNotFoundError\u001b[0m: No module named 'tabulate'"
     ]
    }
   ],
   "source": [
    "from tabulate import tabulate"
   ]
  },
  {
   "cell_type": "code",
   "execution_count": null,
   "metadata": {
    "collapsed": true
   },
   "outputs": [],
   "source": []
  }
 ],
 "metadata": {
  "kernelspec": {
   "display_name": "Python 3",
   "language": "python",
   "name": "python3"
  },
  "language_info": {
   "codemirror_mode": {
    "name": "ipython",
    "version": 3
   },
   "file_extension": ".py",
   "mimetype": "text/x-python",
   "name": "python",
   "nbconvert_exporter": "python",
   "pygments_lexer": "ipython3",
   "version": "3.6.2"
  }
 },
 "nbformat": 4,
 "nbformat_minor": 2
}
