{
 "cells": [
  {
   "cell_type": "code",
   "execution_count": 95,
   "metadata": {},
   "outputs": [],
   "source": [
    "from itertools import combinations\n",
    "import random\n",
    "class Championship:\n",
    "    def __init__(self,teams):\n",
    "        self.teams = teams\n",
    "        self.matches = self.set_matches(teams)\n",
    "        self.stats = self.totals()\n",
    "        self.columns = [\"Name\",\"Games\",\"Win\",\"Draw\",\"Lose\",\"Goals\",\"Points\",\"Percent\"]\n",
    "        \n",
    "    def set_matches(self,teams):\n",
    "        matches = {}\n",
    "        for each in combinations( teams, 2 ):\n",
    "            matches[each] = [random.randint(0, 5), random.randint(0, 5)]\n",
    "        return matches\n",
    "    \n",
    "    def index_swap(self,a):\n",
    "        if a == 0:\n",
    "            return 1\n",
    "        else:\n",
    "            return 0\n",
    "        \n",
    "    def totals(self):   \n",
    "        stats = {}\n",
    "        results = {}\n",
    "        sum_points = 0\n",
    "        for each in self.teams:\n",
    "            results[each] = [match for match in self.matches.items() if each in match[0]]\n",
    "        for key in results:\n",
    "            win = 0\n",
    "            lose = 0\n",
    "            draw = 0\n",
    "            sum_goals = 0\n",
    "            sum_fails = 0\n",
    "            for match in results[key]:\n",
    "                index = match[0].index(key)\n",
    "                goals = match[1][index]\n",
    "                fails = match[1][self.index_swap(index)]\n",
    "                sum_goals += goals\n",
    "                sum_fails += fails\n",
    "                if goals < fails:\n",
    "                    lose += 1\n",
    "                elif  goals > fails:\n",
    "                    win += 1\n",
    "                else:\n",
    "                    draw += 1\n",
    "            stats[key] = [len(teams) - 1, win, draw, lose, (sum_goals,sum_fails), win*3 + draw]\n",
    "            sum_points += win*3 + draw\n",
    "\n",
    "        for each in stats.values():\n",
    "            each.append( round( each[-1]*100/float(sum_points),1))\n",
    "        return stats#sorted( stats.items(), key = lambda x: x[1][-1], reverse=True)\n",
    "    \n",
    "    def find_match(self,*args):\n",
    "        team_matches = {}\n",
    "        if len(args) == 1:\n",
    "            headers =\"{:^12}\" * (len(self.columns))\n",
    "            print(headers.format(*self.columns))\n",
    "            row = \"{:^12}\"* (len(self.stats[args[0]])+1)\n",
    "            row_data = [args[0]]\n",
    "            row_data.extend(self.stats[args[0]])\n",
    "\n",
    "            print(row.format(*row_data)+\"\\n\")\n",
    "            #print(self.stats[args[0]])\n",
    "            for each in self.matches.keys():\n",
    "                if args[0] in each:\n",
    "                    team_matches[each] = self.matches[each]\n",
    "            for each in team_matches.items():\n",
    "                print(\"{:^10} - {:^10} {:^3} : {:^3}\".format(each[0][0],each[0][1],each[1][0],each[1][1]))\n",
    "        elif len(args) == 2:\n",
    "            for each in self.matches.keys():\n",
    "                if args[0] in each and args[1] in each:\n",
    "                    print(each[0] + \" - \" + each[1] + \" {:^3} : {:^3}\".format(self.matches[each][0],self.matches[each][1]))\n",
    "        else:\n",
    "            return \" Неверное кол-во аргументов \"\n",
    "    def display(self):\n",
    "        sort_stats = sorted( self.stats.items(), key = lambda x: x[1][-1], reverse=True)\n",
    "        columns = self.columns\n",
    "        \n",
    "        headers =\"{:^12}\" * (len(columns))\n",
    "        print(headers.format(*columns))\n",
    "        data = []\n",
    "        for each in sort_stats:\n",
    "            row_data = []\n",
    "            row_data.append(each[0])\n",
    "            result_str = [str(val).replace(\",\",\":\") for val in each[1]]\n",
    "            for each in result_str:\n",
    "                row_data.append(each)\n",
    "            data.append(row_data)\n",
    "        print(\"-\"*len(headers)*2)\n",
    "        for each in data:\n",
    "            row_format = \"{:^12}\" * (len(each))\n",
    "            print(row_format.format(*each).replace(\")\",\"\").replace(\"(\",\"\"))\n",
    "    \n",
    "    "
   ]
  },
  {
   "cell_type": "code",
   "execution_count": 96,
   "metadata": {},
   "outputs": [
    {
     "name": "stdout",
     "output_type": "stream",
     "text": [
      "    Name       Games        Win         Draw        Lose       Goals       Points     Percent   \n",
      "------------------------------------------------------------------------------------------------\n",
      "   Spurs         4           3           0           1        12: 9        9          31.0    \n",
      "  Rockets        4           2           0           2         7: 9        6          20.7    \n",
      "   Bulls         4           2           0           2         6: 8        6          20.7    \n",
      "  Hornets        4           1           1           2         6: 6        4          13.8    \n",
      "   Lakers        4           1           1           2         7: 6        4          13.8    \n"
     ]
    }
   ],
   "source": [
    "teams = [\"Rockets\",\"Lakers\",\"Spurs\",\"Bulls\",\"Hornets\"]\n",
    "cup = Championship(teams)\n",
    "cup.display()"
   ]
  },
  {
   "cell_type": "code",
   "execution_count": 97,
   "metadata": {},
   "outputs": [
    {
     "name": "stdout",
     "output_type": "stream",
     "text": [
      "Bulls - Hornets  1  :  0 \n"
     ]
    }
   ],
   "source": [
    "cup.find_match('Hornets',\"Bulls\")"
   ]
  },
  {
   "cell_type": "code",
   "execution_count": 98,
   "metadata": {},
   "outputs": [
    {
     "name": "stdout",
     "output_type": "stream",
     "text": [
      "    Name       Games        Win         Draw        Lose       Goals       Points     Percent   \n",
      "  Hornets        4           1           1           2         (6, 6)        4          13.8    \n",
      "\n",
      "  Bulls    -  Hornets    1  :  0 \n",
      "  Lakers   -  Hornets    0  :  0 \n",
      " Rockets   -  Hornets    0  :  4 \n",
      "  Spurs    -  Hornets    5  :  2 \n"
     ]
    }
   ],
   "source": [
    "cup.find_match('Hornets')"
   ]
  },
  {
   "cell_type": "code",
   "execution_count": null,
   "metadata": {
    "collapsed": true
   },
   "outputs": [],
   "source": []
  }
 ],
 "metadata": {
  "kernelspec": {
   "display_name": "Python 2",
   "language": "python",
   "name": "python2"
  },
  "language_info": {
   "codemirror_mode": {
    "name": "ipython",
    "version": 2
   },
   "file_extension": ".py",
   "mimetype": "text/x-python",
   "name": "python",
   "nbconvert_exporter": "python",
   "pygments_lexer": "ipython2",
   "version": "2.7.13"
  }
 },
 "nbformat": 4,
 "nbformat_minor": 2
}
